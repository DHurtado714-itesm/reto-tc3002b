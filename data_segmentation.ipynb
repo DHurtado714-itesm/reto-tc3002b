{
 "cells": [
  {
   "cell_type": "code",
   "execution_count": 2,
   "id": "48c0201a",
   "metadata": {},
   "outputs": [],
   "source": [
    "import os\n",
    "import pandas as pd\n",
    "import re"
   ]
  },
  {
   "cell_type": "code",
   "execution_count": 3,
   "id": "f487c646",
   "metadata": {},
   "outputs": [],
   "source": [
    "LABELS_PATH = \"./raw_labels.csv\"\n",
    "DATA_DIR = \"./raw_dataset\"\n",
    "OUTPUT_CSV = \"plagiarism_pairs.csv\"\n",
    "\n",
    "df = pd.read_csv(LABELS_PATH)"
   ]
  },
  {
   "cell_type": "code",
   "execution_count": 4,
   "id": "dec4f2a2",
   "metadata": {},
   "outputs": [
    {
     "name": "stdout",
     "output_type": "stream",
     "text": [
      "Columnas originales: ['sub1', 'sub2', 'problem', 'verdict']\n"
     ]
    }
   ],
   "source": [
    "# Limpiar nombres de columnas\n",
    "df.columns = df.columns.str.strip()\n",
    "print(f\"Columnas originales: {df.columns.tolist()}\")\n",
    "\n",
    "# Limpiar contenido\n",
    "df['verdict'] = df['verdict'].astype(int)\n",
    "df['sub1'] = df['sub1'].astype(str).str.strip()\n",
    "df['sub2'] = df['sub2'].astype(str).str.strip()\n",
    "\n",
    "# Usar directamente la columna binaria\n",
    "df['plagiarized'] = df['verdict']\n",
    "df['id_pair'] = df['sub1'] + '_' + df['sub2']"
   ]
  },
  {
   "cell_type": "code",
   "execution_count": 5,
   "id": "ca31091f",
   "metadata": {},
   "outputs": [],
   "source": [
    "rows = []\n",
    "def remove_comments(code):\n",
    "    # Eliminar comentarios de una línea (//...)\n",
    "    code = re.sub(r'//.*$', '', code, flags=re.MULTILINE)\n",
    "    # Eliminar comentarios multilínea (/*...*/ y /**...*/)\n",
    "    code = re.sub(r'/\\*[\\s\\S]*?\\*/', '', code)\n",
    "    # Eliminar espacios en blanco sobrantes y convertir a una sola línea\n",
    "    code = re.sub(r'\\s+', ' ', code).strip()\n",
    "    return code\n",
    "\n",
    "for _, row in df.iterrows():\n",
    "    pair_id = row['id_pair']\n",
    "    folder_path = os.path.join(DATA_DIR, pair_id)\n",
    "\n",
    "    if not os.path.isdir(folder_path):\n",
    "        print(f\"⚠️ Carpeta no encontrada: {folder_path}\")\n",
    "        continue\n",
    "\n",
    "    files = os.listdir(folder_path)\n",
    "    if len(files) != 2:\n",
    "        print(f\"⚠️ Par incompleto en: {folder_path}\")\n",
    "        continue\n",
    "\n",
    "    files = sorted(files)\n",
    "\n",
    "    file1_path = os.path.join(folder_path, files[0])\n",
    "    file2_path = os.path.join(folder_path, files[1])\n",
    "\n",
    "    try:\n",
    "        with open(file1_path, 'r', encoding='utf-8', errors='ignore') as f1:\n",
    "            code1 = f1.read()\n",
    "            code1 = remove_comments(code1)\n",
    "        with open(file2_path, 'r', encoding='utf-8', errors='ignore') as f2:\n",
    "            code2 = f2.read()\n",
    "            code2 = remove_comments(code2)\n",
    "    except Exception as e:\n",
    "        print(f\"❌ Error leyendo {pair_id}: {e}\")\n",
    "        continue\n",
    "\n",
    "    rows.append({\n",
    "        'code1': code1,\n",
    "        'code2': code2,\n",
    "        'label': int(row['plagiarized'])\n",
    "    })\n"
   ]
  },
  {
   "cell_type": "code",
   "execution_count": 6,
   "id": "bf995940",
   "metadata": {},
   "outputs": [
    {
     "name": "stdout",
     "output_type": "stream",
     "text": [
      "✅ CSV generado con 911 pares → plagiarism_pairs.csv\n"
     ]
    }
   ],
   "source": [
    "df_out = pd.DataFrame(rows)\n",
    "df_out.to_csv(OUTPUT_CSV, index=False)\n",
    "\n",
    "print(f\"✅ CSV generado con {len(df_out)} pares → {OUTPUT_CSV}\")"
   ]
  }
 ],
 "metadata": {
  "kernelspec": {
   "display_name": ".venv",
   "language": "python",
   "name": "python3"
  },
  "language_info": {
   "codemirror_mode": {
    "name": "ipython",
    "version": 3
   },
   "file_extension": ".py",
   "mimetype": "text/x-python",
   "name": "python",
   "nbconvert_exporter": "python",
   "pygments_lexer": "ipython3",
   "version": "3.10.17"
  }
 },
 "nbformat": 4,
 "nbformat_minor": 5
}
